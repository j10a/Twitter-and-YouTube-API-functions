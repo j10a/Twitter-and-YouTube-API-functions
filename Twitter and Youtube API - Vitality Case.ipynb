{
 "cells": [
  {
   "cell_type": "code",
   "execution_count": 19,
   "metadata": {},
   "outputs": [],
   "source": [
    "import tweepy\n",
    "from tweepy import OAuthHandler\n",
    "from tweepy import API\n",
    "from collections import Counter\n",
    "from datetime import datetime, date, time, timedelta\n",
    "import sys\n",
    "import json\n",
    "import os\n",
    "import io\n",
    "import re\n",
    "import time"
   ]
  },
  {
   "cell_type": "markdown",
   "metadata": {},
   "source": [
    "## Get number of followers from Twitter user ##"
   ]
  },
  {
   "cell_type": "code",
   "execution_count": 4,
   "metadata": {},
   "outputs": [],
   "source": [
    "def get_followers(twitter_id):\n",
    "    \n",
    "    auth = tweepy.OAuthHandler('A', 'B')\n",
    "    auth.set_access_token('C','D')\n",
    "\n",
    "    api = tweepy.API(auth)\n",
    "    nb_followers = api.get_user(twitter_id).followers_count\n",
    "    print(twitter_id)\n",
    "    print(nb_followers)\n",
    "\n"
   ]
  },
  {
   "cell_type": "code",
   "execution_count": 5,
   "metadata": {},
   "outputs": [
    {
     "name": "stdout",
     "output_type": "stream",
     "text": [
      "Gotaga\n",
      "1042611\n"
     ]
    }
   ],
   "source": [
    "get_followers('Gotaga')"
   ]
  },
  {
   "cell_type": "markdown",
   "metadata": {},
   "source": [
    "## Views from top X videos with player Y from channel Z ##"
   ]
  },
  {
   "cell_type": "code",
   "execution_count": 20,
   "metadata": {},
   "outputs": [],
   "source": [
    "from apiclient.discovery import build\n",
    "api_key = \"E\"\n",
    "youtube = build('youtube', 'v3', developerKey = api_key)"
   ]
  },
  {
   "cell_type": "code",
   "execution_count": 21,
   "metadata": {},
   "outputs": [],
   "source": [
    "def get_total_view(player_name, channel_id, n_videos):\n",
    "    reqf = youtube.search().list(q=player_name, part ='snippet', type ='video', channelId = channel_id, maxResults = n_videos, order = 'viewCount')\n",
    "    resf = reqf.execute()\n",
    "    videof = list()\n",
    "    for item in resf['items']:\n",
    "        videof.append(item['id']['videoId'])\n",
    "        print(item['snippet']['title'])\n",
    "        #print(item['id']['videoId'])\n",
    "    #print(videof)    \n",
    "    viewsf = list()\n",
    "\n",
    "    for i in videof:\n",
    "    \n",
    "        vf = youtube.videos().list(part = 'statistics',id = i)\n",
    "        resvf = vf.execute()\n",
    "        #print(resv)\n",
    "        for item2 in resvf['items']:\n",
    "            viewsf.append(item2['statistics']['viewCount'])\n",
    "            #print(item2['statistics']['viewCount'])\n",
    "    #print(viewsf)\n",
    "    \n",
    "    views_intf = list ()\n",
    "    for n in viewsf:\n",
    "        view_intf = int(n)\n",
    "        views_intf.append(view_intf)\n",
    "    return sum(views_intf)\n",
    "    "
   ]
  },
  {
   "cell_type": "code",
   "execution_count": null,
   "metadata": {},
   "outputs": [],
   "source": [
    "get_total_view('Gotaga', 'UCgjhed4ZWlmC25hS4Sgs7gw', 10)\n",
    "#returns the 10 most viewed viwed videos on Vitality youtube channel\n",
    "#where the gamertag Gotaga is included in the title\n",
    "#and the total viewcount"
   ]
  }
 ],
 "metadata": {
  "kernelspec": {
   "display_name": "Python 3",
   "language": "python",
   "name": "python3"
  },
  "language_info": {
   "codemirror_mode": {
    "name": "ipython",
    "version": 3
   },
   "file_extension": ".py",
   "mimetype": "text/x-python",
   "name": "python",
   "nbconvert_exporter": "python",
   "pygments_lexer": "ipython3",
   "version": "3.6.3"
  }
 },
 "nbformat": 4,
 "nbformat_minor": 2
}
